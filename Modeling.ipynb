{
 "cells": [
  {
   "cell_type": "code",
   "execution_count": 1,
   "id": "bfacdb2f",
   "metadata": {},
   "outputs": [],
   "source": [
    "import torch\n",
    "import torch.nn as nn\n",
    "import torch.optim as optim\n",
    "from torch.utils.data import DataLoader\n",
    "device = torch.device('cuda' if torch.cuda.is_available() else 'cpu')\n",
    "\n",
    "from model_rnn import Model\n",
    "from dataset import OfficeDataset"
   ]
  },
  {
   "cell_type": "code",
   "execution_count": 2,
   "id": "15a9b6ce",
   "metadata": {},
   "outputs": [
    {
     "name": "stderr",
     "output_type": "stream",
     "text": [
      "/usr/bin/nvidia-modprobe: unrecognized option: \"-s\"\n",
      "\n",
      "ERROR: Invalid commandline, please run `/usr/bin/nvidia-modprobe --help` for usage information.\n",
      "\n",
      "\n",
      "/usr/bin/nvidia-modprobe: unrecognized option: \"-s\"\n",
      "\n",
      "ERROR: Invalid commandline, please run `/usr/bin/nvidia-modprobe --help` for usage information.\n",
      "\n",
      "\n"
     ]
    },
    {
     "data": {
      "text/plain": [
       "Model(\n",
       "  (embedding): Embedding(1000, 6000)\n",
       "  (rnn): LSTM(6000, 6000, num_layers=3, batch_first=True, dropout=0.5)\n",
       "  (fc): Linear(in_features=6000, out_features=21, bias=True)\n",
       "  (dropout): Dropout(p=0.5, inplace=False)\n",
       ")"
      ]
     },
     "execution_count": 2,
     "metadata": {},
     "output_type": "execute_result"
    }
   ],
   "source": [
    "vocab_size = 1000\n",
    "embedding_dim = 6000\n",
    "hidden_dim = 6000\n",
    "num_layers = 3\n",
    "num_classes = 21\n",
    "model = Model(vocab_size, embedding_dim, hidden_dim, num_layers).to(device)\n",
    "model"
   ]
  },
  {
   "cell_type": "code",
   "execution_count": 3,
   "id": "2fbc03b6",
   "metadata": {},
   "outputs": [],
   "source": [
    "X = torch.ones((1,6000), dtype=torch.int32).to(device)\n",
    "output = model(X)"
   ]
  },
  {
   "cell_type": "code",
   "execution_count": 4,
   "id": "c4d2b0d9",
   "metadata": {},
   "outputs": [
    {
     "data": {
      "text/plain": [
       "tensor([[-0.0249,  0.0079, -0.0158,  0.0209, -0.0285, -0.0066, -0.0143, -0.0234,\n",
       "          0.0073, -0.0020,  0.0212, -0.0290,  0.0121, -0.0158,  0.0023, -0.0004,\n",
       "         -0.0065, -0.0257, -0.0026,  0.0096,  0.0062]], device='cuda:0',\n",
       "       grad_fn=<AddmmBackward0>)"
      ]
     },
     "execution_count": 4,
     "metadata": {},
     "output_type": "execute_result"
    }
   ],
   "source": [
    "output"
   ]
  },
  {
   "cell_type": "code",
   "execution_count": 5,
   "id": "8ff04d9a",
   "metadata": {},
   "outputs": [
    {
     "name": "stderr",
     "output_type": "stream",
     "text": [
      "100%|██████████████████████████████████████████████████| 41533/41533 [00:03<00:00, 12665.18it/s]\n",
      "[nltk_data] Downloading package stopwords to /accts/dkoch/nltk_data...\n",
      "[nltk_data]   Package stopwords is already up-to-date!\n"
     ]
    }
   ],
   "source": [
    "train_dataset = OfficeDataset('train')\n",
    "dataloader = DataLoader(train_dataset, batch_size=16, num_workers=4, shuffle=True)"
   ]
  },
  {
   "cell_type": "code",
   "execution_count": 6,
   "id": "35ce2f5e",
   "metadata": {},
   "outputs": [],
   "source": [
    "criterion = nn.CrossEntropyLoss()\n",
    "optimizer = optim.Adam(model.parameters(), lr=0.001)"
   ]
  },
  {
   "cell_type": "code",
   "execution_count": 7,
   "id": "0bb81a39",
   "metadata": {},
   "outputs": [
    {
     "name": "stderr",
     "output_type": "stream",
     "text": [
      "/home/conda/feedstock_root/build_artifacts/pytorch-recipe_1673752754831/work/aten/src/ATen/native/cuda/Indexing.cu:1141: indexSelectLargeIndex: block: [66,0,0], thread: [64,0,0] Assertion `srcIndex < srcSelectDimSize` failed.\n",
      "/home/conda/feedstock_root/build_artifacts/pytorch-recipe_1673752754831/work/aten/src/ATen/native/cuda/Indexing.cu:1141: indexSelectLargeIndex: block: [66,0,0], thread: [65,0,0] Assertion `srcIndex < srcSelectDimSize` failed.\n",
      "/home/conda/feedstock_root/build_artifacts/pytorch-recipe_1673752754831/work/aten/src/ATen/native/cuda/Indexing.cu:1141: indexSelectLargeIndex: block: [66,0,0], thread: [66,0,0] Assertion `srcIndex < srcSelectDimSize` failed.\n",
      "/home/conda/feedstock_root/build_artifacts/pytorch-recipe_1673752754831/work/aten/src/ATen/native/cuda/Indexing.cu:1141: indexSelectLargeIndex: block: [66,0,0], thread: [67,0,0] Assertion `srcIndex < srcSelectDimSize` failed.\n",
      "/home/conda/feedstock_root/build_artifacts/pytorch-recipe_1673752754831/work/aten/src/ATen/native/cuda/Indexing.cu:1141: indexSelectLargeIndex: block: [66,0,0], thread: [68,0,0] Assertion `srcIndex < srcSelectDimSize` failed.\n",
      "/home/conda/feedstock_root/build_artifacts/pytorch-recipe_1673752754831/work/aten/src/ATen/native/cuda/Indexing.cu:1141: indexSelectLargeIndex: block: [66,0,0], thread: [69,0,0] Assertion `srcIndex < srcSelectDimSize` failed.\n",
      "/home/conda/feedstock_root/build_artifacts/pytorch-recipe_1673752754831/work/aten/src/ATen/native/cuda/Indexing.cu:1141: indexSelectLargeIndex: block: [66,0,0], thread: [70,0,0] Assertion `srcIndex < srcSelectDimSize` failed.\n",
      "/home/conda/feedstock_root/build_artifacts/pytorch-recipe_1673752754831/work/aten/src/ATen/native/cuda/Indexing.cu:1141: indexSelectLargeIndex: block: [66,0,0], thread: [71,0,0] Assertion `srcIndex < srcSelectDimSize` failed.\n",
      "/home/conda/feedstock_root/build_artifacts/pytorch-recipe_1673752754831/work/aten/src/ATen/native/cuda/Indexing.cu:1141: indexSelectLargeIndex: block: [66,0,0], thread: [72,0,0] Assertion `srcIndex < srcSelectDimSize` failed.\n",
      "/home/conda/feedstock_root/build_artifacts/pytorch-recipe_1673752754831/work/aten/src/ATen/native/cuda/Indexing.cu:1141: indexSelectLargeIndex: block: [66,0,0], thread: [73,0,0] Assertion `srcIndex < srcSelectDimSize` failed.\n",
      "/home/conda/feedstock_root/build_artifacts/pytorch-recipe_1673752754831/work/aten/src/ATen/native/cuda/Indexing.cu:1141: indexSelectLargeIndex: block: [66,0,0], thread: [74,0,0] Assertion `srcIndex < srcSelectDimSize` failed.\n",
      "/home/conda/feedstock_root/build_artifacts/pytorch-recipe_1673752754831/work/aten/src/ATen/native/cuda/Indexing.cu:1141: indexSelectLargeIndex: block: [66,0,0], thread: [75,0,0] Assertion `srcIndex < srcSelectDimSize` failed.\n",
      "/home/conda/feedstock_root/build_artifacts/pytorch-recipe_1673752754831/work/aten/src/ATen/native/cuda/Indexing.cu:1141: indexSelectLargeIndex: block: [66,0,0], thread: [76,0,0] Assertion `srcIndex < srcSelectDimSize` failed.\n",
      "/home/conda/feedstock_root/build_artifacts/pytorch-recipe_1673752754831/work/aten/src/ATen/native/cuda/Indexing.cu:1141: indexSelectLargeIndex: block: [66,0,0], thread: [77,0,0] Assertion `srcIndex < srcSelectDimSize` failed.\n",
      "/home/conda/feedstock_root/build_artifacts/pytorch-recipe_1673752754831/work/aten/src/ATen/native/cuda/Indexing.cu:1141: indexSelectLargeIndex: block: [66,0,0], thread: [78,0,0] Assertion `srcIndex < srcSelectDimSize` failed.\n",
      "/home/conda/feedstock_root/build_artifacts/pytorch-recipe_1673752754831/work/aten/src/ATen/native/cuda/Indexing.cu:1141: indexSelectLargeIndex: block: [66,0,0], thread: [79,0,0] Assertion `srcIndex < srcSelectDimSize` failed.\n",
      "/home/conda/feedstock_root/build_artifacts/pytorch-recipe_1673752754831/work/aten/src/ATen/native/cuda/Indexing.cu:1141: indexSelectLargeIndex: block: [66,0,0], thread: [80,0,0] Assertion `srcIndex < srcSelectDimSize` failed.\n",
      "/home/conda/feedstock_root/build_artifacts/pytorch-recipe_1673752754831/work/aten/src/ATen/native/cuda/Indexing.cu:1141: indexSelectLargeIndex: block: [66,0,0], thread: [81,0,0] Assertion `srcIndex < srcSelectDimSize` failed.\n",
      "/home/conda/feedstock_root/build_artifacts/pytorch-recipe_1673752754831/work/aten/src/ATen/native/cuda/Indexing.cu:1141: indexSelectLargeIndex: block: [66,0,0], thread: [82,0,0] Assertion `srcIndex < srcSelectDimSize` failed.\n",
      "/home/conda/feedstock_root/build_artifacts/pytorch-recipe_1673752754831/work/aten/src/ATen/native/cuda/Indexing.cu:1141: indexSelectLargeIndex: block: [66,0,0], thread: [83,0,0] Assertion `srcIndex < srcSelectDimSize` failed.\n",
      "/home/conda/feedstock_root/build_artifacts/pytorch-recipe_1673752754831/work/aten/src/ATen/native/cuda/Indexing.cu:1141: indexSelectLargeIndex: block: [66,0,0], thread: [84,0,0] Assertion `srcIndex < srcSelectDimSize` failed.\n",
      "/home/conda/feedstock_root/build_artifacts/pytorch-recipe_1673752754831/work/aten/src/ATen/native/cuda/Indexing.cu:1141: indexSelectLargeIndex: block: [66,0,0], thread: [85,0,0] Assertion `srcIndex < srcSelectDimSize` failed.\n",
      "/home/conda/feedstock_root/build_artifacts/pytorch-recipe_1673752754831/work/aten/src/ATen/native/cuda/Indexing.cu:1141: indexSelectLargeIndex: block: [66,0,0], thread: [86,0,0] Assertion `srcIndex < srcSelectDimSize` failed.\n",
      "/home/conda/feedstock_root/build_artifacts/pytorch-recipe_1673752754831/work/aten/src/ATen/native/cuda/Indexing.cu:1141: indexSelectLargeIndex: block: [66,0,0], thread: [87,0,0] Assertion `srcIndex < srcSelectDimSize` failed.\n",
      "/home/conda/feedstock_root/build_artifacts/pytorch-recipe_1673752754831/work/aten/src/ATen/native/cuda/Indexing.cu:1141: indexSelectLargeIndex: block: [66,0,0], thread: [88,0,0] Assertion `srcIndex < srcSelectDimSize` failed.\n",
      "/home/conda/feedstock_root/build_artifacts/pytorch-recipe_1673752754831/work/aten/src/ATen/native/cuda/Indexing.cu:1141: indexSelectLargeIndex: block: [66,0,0], thread: [89,0,0] Assertion `srcIndex < srcSelectDimSize` failed.\n",
      "/home/conda/feedstock_root/build_artifacts/pytorch-recipe_1673752754831/work/aten/src/ATen/native/cuda/Indexing.cu:1141: indexSelectLargeIndex: block: [66,0,0], thread: [90,0,0] Assertion `srcIndex < srcSelectDimSize` failed.\n",
      "/home/conda/feedstock_root/build_artifacts/pytorch-recipe_1673752754831/work/aten/src/ATen/native/cuda/Indexing.cu:1141: indexSelectLargeIndex: block: [66,0,0], thread: [91,0,0] Assertion `srcIndex < srcSelectDimSize` failed.\n",
      "/home/conda/feedstock_root/build_artifacts/pytorch-recipe_1673752754831/work/aten/src/ATen/native/cuda/Indexing.cu:1141: indexSelectLargeIndex: block: [66,0,0], thread: [92,0,0] Assertion `srcIndex < srcSelectDimSize` failed.\n",
      "/home/conda/feedstock_root/build_artifacts/pytorch-recipe_1673752754831/work/aten/src/ATen/native/cuda/Indexing.cu:1141: indexSelectLargeIndex: block: [66,0,0], thread: [93,0,0] Assertion `srcIndex < srcSelectDimSize` failed.\n",
      "/home/conda/feedstock_root/build_artifacts/pytorch-recipe_1673752754831/work/aten/src/ATen/native/cuda/Indexing.cu:1141: indexSelectLargeIndex: block: [66,0,0], thread: [94,0,0] Assertion `srcIndex < srcSelectDimSize` failed.\n",
      "/home/conda/feedstock_root/build_artifacts/pytorch-recipe_1673752754831/work/aten/src/ATen/native/cuda/Indexing.cu:1141: indexSelectLargeIndex: block: [66,0,0], thread: [95,0,0] Assertion `srcIndex < srcSelectDimSize` failed.\n",
      "/home/conda/feedstock_root/build_artifacts/pytorch-recipe_1673752754831/work/aten/src/ATen/native/cuda/Indexing.cu:1141: indexSelectLargeIndex: block: [488,0,0], thread: [64,0,0] Assertion `srcIndex < srcSelectDimSize` failed.\n",
      "/home/conda/feedstock_root/build_artifacts/pytorch-recipe_1673752754831/work/aten/src/ATen/native/cuda/Indexing.cu:1141: indexSelectLargeIndex: block: [488,0,0], thread: [65,0,0] Assertion `srcIndex < srcSelectDimSize` failed.\n",
      "/home/conda/feedstock_root/build_artifacts/pytorch-recipe_1673752754831/work/aten/src/ATen/native/cuda/Indexing.cu:1141: indexSelectLargeIndex: block: [488,0,0], thread: [66,0,0] Assertion `srcIndex < srcSelectDimSize` failed.\n",
      "/home/conda/feedstock_root/build_artifacts/pytorch-recipe_1673752754831/work/aten/src/ATen/native/cuda/Indexing.cu:1141: indexSelectLargeIndex: block: [488,0,0], thread: [67,0,0] Assertion `srcIndex < srcSelectDimSize` failed.\n",
      "/home/conda/feedstock_root/build_artifacts/pytorch-recipe_1673752754831/work/aten/src/ATen/native/cuda/Indexing.cu:1141: indexSelectLargeIndex: block: [488,0,0], thread: [68,0,0] Assertion `srcIndex < srcSelectDimSize` failed.\n",
      "/home/conda/feedstock_root/build_artifacts/pytorch-recipe_1673752754831/work/aten/src/ATen/native/cuda/Indexing.cu:1141: indexSelectLargeIndex: block: [488,0,0], thread: [69,0,0] Assertion `srcIndex < srcSelectDimSize` failed.\n",
      "/home/conda/feedstock_root/build_artifacts/pytorch-recipe_1673752754831/work/aten/src/ATen/native/cuda/Indexing.cu:1141: indexSelectLargeIndex: block: [488,0,0], thread: [70,0,0] Assertion `srcIndex < srcSelectDimSize` failed.\n",
      "/home/conda/feedstock_root/build_artifacts/pytorch-recipe_1673752754831/work/aten/src/ATen/native/cuda/Indexing.cu:1141: indexSelectLargeIndex: block: [488,0,0], thread: [71,0,0] Assertion `srcIndex < srcSelectDimSize` failed.\n",
      "/home/conda/feedstock_root/build_artifacts/pytorch-recipe_1673752754831/work/aten/src/ATen/native/cuda/Indexing.cu:1141: indexSelectLargeIndex: block: [488,0,0], thread: [72,0,0] Assertion `srcIndex < srcSelectDimSize` failed.\n",
      "/home/conda/feedstock_root/build_artifacts/pytorch-recipe_1673752754831/work/aten/src/ATen/native/cuda/Indexing.cu:1141: indexSelectLargeIndex: block: [488,0,0], thread: [73,0,0] Assertion `srcIndex < srcSelectDimSize` failed.\n",
      "/home/conda/feedstock_root/build_artifacts/pytorch-recipe_1673752754831/work/aten/src/ATen/native/cuda/Indexing.cu:1141: indexSelectLargeIndex: block: [488,0,0], thread: [74,0,0] Assertion `srcIndex < srcSelectDimSize` failed.\n",
      "/home/conda/feedstock_root/build_artifacts/pytorch-recipe_1673752754831/work/aten/src/ATen/native/cuda/Indexing.cu:1141: indexSelectLargeIndex: block: [488,0,0], thread: [75,0,0] Assertion `srcIndex < srcSelectDimSize` failed.\n",
      "/home/conda/feedstock_root/build_artifacts/pytorch-recipe_1673752754831/work/aten/src/ATen/native/cuda/Indexing.cu:1141: indexSelectLargeIndex: block: [488,0,0], thread: [76,0,0] Assertion `srcIndex < srcSelectDimSize` failed.\n",
      "/home/conda/feedstock_root/build_artifacts/pytorch-recipe_1673752754831/work/aten/src/ATen/native/cuda/Indexing.cu:1141: indexSelectLargeIndex: block: [488,0,0], thread: [77,0,0] Assertion `srcIndex < srcSelectDimSize` failed.\n",
      "/home/conda/feedstock_root/build_artifacts/pytorch-recipe_1673752754831/work/aten/src/ATen/native/cuda/Indexing.cu:1141: indexSelectLargeIndex: block: [488,0,0], thread: [78,0,0] Assertion `srcIndex < srcSelectDimSize` failed.\n",
      "/home/conda/feedstock_root/build_artifacts/pytorch-recipe_1673752754831/work/aten/src/ATen/native/cuda/Indexing.cu:1141: indexSelectLargeIndex: block: [488,0,0], thread: [79,0,0] Assertion `srcIndex < srcSelectDimSize` failed.\n",
      "/home/conda/feedstock_root/build_artifacts/pytorch-recipe_1673752754831/work/aten/src/ATen/native/cuda/Indexing.cu:1141: indexSelectLargeIndex: block: [488,0,0], thread: [80,0,0] Assertion `srcIndex < srcSelectDimSize` failed.\n",
      "/home/conda/feedstock_root/build_artifacts/pytorch-recipe_1673752754831/work/aten/src/ATen/native/cuda/Indexing.cu:1141: indexSelectLargeIndex: block: [488,0,0], thread: [81,0,0] Assertion `srcIndex < srcSelectDimSize` failed.\n",
      "/home/conda/feedstock_root/build_artifacts/pytorch-recipe_1673752754831/work/aten/src/ATen/native/cuda/Indexing.cu:1141: indexSelectLargeIndex: block: [488,0,0], thread: [82,0,0] Assertion `srcIndex < srcSelectDimSize` failed.\n",
      "/home/conda/feedstock_root/build_artifacts/pytorch-recipe_1673752754831/work/aten/src/ATen/native/cuda/Indexing.cu:1141: indexSelectLargeIndex: block: [488,0,0], thread: [83,0,0] Assertion `srcIndex < srcSelectDimSize` failed.\n",
      "/home/conda/feedstock_root/build_artifacts/pytorch-recipe_1673752754831/work/aten/src/ATen/native/cuda/Indexing.cu:1141: indexSelectLargeIndex: block: [488,0,0], thread: [84,0,0] Assertion `srcIndex < srcSelectDimSize` failed.\n",
      "/home/conda/feedstock_root/build_artifacts/pytorch-recipe_1673752754831/work/aten/src/ATen/native/cuda/Indexing.cu:1141: indexSelectLargeIndex: block: [488,0,0], thread: [85,0,0] Assertion `srcIndex < srcSelectDimSize` failed.\n",
      "/home/conda/feedstock_root/build_artifacts/pytorch-recipe_1673752754831/work/aten/src/ATen/native/cuda/Indexing.cu:1141: indexSelectLargeIndex: block: [488,0,0], thread: [86,0,0] Assertion `srcIndex < srcSelectDimSize` failed.\n",
      "/home/conda/feedstock_root/build_artifacts/pytorch-recipe_1673752754831/work/aten/src/ATen/native/cuda/Indexing.cu:1141: indexSelectLargeIndex: block: [488,0,0], thread: [87,0,0] Assertion `srcIndex < srcSelectDimSize` failed.\n",
      "/home/conda/feedstock_root/build_artifacts/pytorch-recipe_1673752754831/work/aten/src/ATen/native/cuda/Indexing.cu:1141: indexSelectLargeIndex: block: [488,0,0], thread: [88,0,0] Assertion `srcIndex < srcSelectDimSize` failed.\n",
      "/home/conda/feedstock_root/build_artifacts/pytorch-recipe_1673752754831/work/aten/src/ATen/native/cuda/Indexing.cu:1141: indexSelectLargeIndex: block: [488,0,0], thread: [89,0,0] Assertion `srcIndex < srcSelectDimSize` failed.\n",
      "/home/conda/feedstock_root/build_artifacts/pytorch-recipe_1673752754831/work/aten/src/ATen/native/cuda/Indexing.cu:1141: indexSelectLargeIndex: block: [488,0,0], thread: [90,0,0] Assertion `srcIndex < srcSelectDimSize` failed.\n",
      "/home/conda/feedstock_root/build_artifacts/pytorch-recipe_1673752754831/work/aten/src/ATen/native/cuda/Indexing.cu:1141: indexSelectLargeIndex: block: [488,0,0], thread: [91,0,0] Assertion `srcIndex < srcSelectDimSize` failed.\n",
      "/home/conda/feedstock_root/build_artifacts/pytorch-recipe_1673752754831/work/aten/src/ATen/native/cuda/Indexing.cu:1141: indexSelectLargeIndex: block: [488,0,0], thread: [92,0,0] Assertion `srcIndex < srcSelectDimSize` failed.\n",
      "/home/conda/feedstock_root/build_artifacts/pytorch-recipe_1673752754831/work/aten/src/ATen/native/cuda/Indexing.cu:1141: indexSelectLargeIndex: block: [488,0,0], thread: [93,0,0] Assertion `srcIndex < srcSelectDimSize` failed.\n",
      "/home/conda/feedstock_root/build_artifacts/pytorch-recipe_1673752754831/work/aten/src/ATen/native/cuda/Indexing.cu:1141: indexSelectLargeIndex: block: [488,0,0], thread: [94,0,0] Assertion `srcIndex < srcSelectDimSize` failed.\n",
      "/home/conda/feedstock_root/build_artifacts/pytorch-recipe_1673752754831/work/aten/src/ATen/native/cuda/Indexing.cu:1141: indexSelectLargeIndex: block: [488,0,0], thread: [95,0,0] Assertion `srcIndex < srcSelectDimSize` failed.\n"
     ]
    },
    {
     "ename": "RuntimeError",
     "evalue": "cuDNN error: CUDNN_STATUS_INTERNAL_ERROR",
     "output_type": "error",
     "traceback": [
      "\u001b[0;31m---------------------------------------------------------------------------\u001b[0m",
      "\u001b[0;31mRuntimeError\u001b[0m                              Traceback (most recent call last)",
      "Cell \u001b[0;32mIn[7], line 11\u001b[0m\n\u001b[1;32m      8\u001b[0m loss \u001b[38;5;241m=\u001b[39m criterion(outputs, labels\u001b[38;5;241m.\u001b[39mfloat())\n\u001b[1;32m     10\u001b[0m optimizer\u001b[38;5;241m.\u001b[39mzero_grad()\n\u001b[0;32m---> 11\u001b[0m \u001b[43mloss\u001b[49m\u001b[38;5;241;43m.\u001b[39;49m\u001b[43mbackward\u001b[49m\u001b[43m(\u001b[49m\u001b[43m)\u001b[49m\n\u001b[1;32m     12\u001b[0m optimizer\u001b[38;5;241m.\u001b[39mstep()\n\u001b[1;32m     14\u001b[0m \u001b[38;5;28mprint\u001b[39m(\u001b[38;5;124mf\u001b[39m\u001b[38;5;124m'\u001b[39m\u001b[38;5;124mloss: \u001b[39m\u001b[38;5;132;01m{\u001b[39;00mloss\u001b[38;5;241m.\u001b[39mitem()\u001b[38;5;132;01m}\u001b[39;00m\u001b[38;5;124m'\u001b[39m)\n",
      "File \u001b[0;32m/usr/lfs/v0/anaconda/envs/lfg/lib/python3.8/site-packages/torch/_tensor.py:488\u001b[0m, in \u001b[0;36mTensor.backward\u001b[0;34m(self, gradient, retain_graph, create_graph, inputs)\u001b[0m\n\u001b[1;32m    478\u001b[0m \u001b[38;5;28;01mif\u001b[39;00m has_torch_function_unary(\u001b[38;5;28mself\u001b[39m):\n\u001b[1;32m    479\u001b[0m     \u001b[38;5;28;01mreturn\u001b[39;00m handle_torch_function(\n\u001b[1;32m    480\u001b[0m         Tensor\u001b[38;5;241m.\u001b[39mbackward,\n\u001b[1;32m    481\u001b[0m         (\u001b[38;5;28mself\u001b[39m,),\n\u001b[0;32m   (...)\u001b[0m\n\u001b[1;32m    486\u001b[0m         inputs\u001b[38;5;241m=\u001b[39minputs,\n\u001b[1;32m    487\u001b[0m     )\n\u001b[0;32m--> 488\u001b[0m \u001b[43mtorch\u001b[49m\u001b[38;5;241;43m.\u001b[39;49m\u001b[43mautograd\u001b[49m\u001b[38;5;241;43m.\u001b[39;49m\u001b[43mbackward\u001b[49m\u001b[43m(\u001b[49m\n\u001b[1;32m    489\u001b[0m \u001b[43m    \u001b[49m\u001b[38;5;28;43mself\u001b[39;49m\u001b[43m,\u001b[49m\u001b[43m \u001b[49m\u001b[43mgradient\u001b[49m\u001b[43m,\u001b[49m\u001b[43m \u001b[49m\u001b[43mretain_graph\u001b[49m\u001b[43m,\u001b[49m\u001b[43m \u001b[49m\u001b[43mcreate_graph\u001b[49m\u001b[43m,\u001b[49m\u001b[43m \u001b[49m\u001b[43minputs\u001b[49m\u001b[38;5;241;43m=\u001b[39;49m\u001b[43minputs\u001b[49m\n\u001b[1;32m    490\u001b[0m \u001b[43m\u001b[49m\u001b[43m)\u001b[49m\n",
      "File \u001b[0;32m/usr/lfs/v0/anaconda/envs/lfg/lib/python3.8/site-packages/torch/autograd/__init__.py:197\u001b[0m, in \u001b[0;36mbackward\u001b[0;34m(tensors, grad_tensors, retain_graph, create_graph, grad_variables, inputs)\u001b[0m\n\u001b[1;32m    192\u001b[0m     retain_graph \u001b[38;5;241m=\u001b[39m create_graph\n\u001b[1;32m    194\u001b[0m \u001b[38;5;66;03m# The reason we repeat same the comment below is that\u001b[39;00m\n\u001b[1;32m    195\u001b[0m \u001b[38;5;66;03m# some Python versions print out the first line of a multi-line function\u001b[39;00m\n\u001b[1;32m    196\u001b[0m \u001b[38;5;66;03m# calls in the traceback and some print out the last line\u001b[39;00m\n\u001b[0;32m--> 197\u001b[0m \u001b[43mVariable\u001b[49m\u001b[38;5;241;43m.\u001b[39;49m\u001b[43m_execution_engine\u001b[49m\u001b[38;5;241;43m.\u001b[39;49m\u001b[43mrun_backward\u001b[49m\u001b[43m(\u001b[49m\u001b[43m  \u001b[49m\u001b[38;5;66;43;03m# Calls into the C++ engine to run the backward pass\u001b[39;49;00m\n\u001b[1;32m    198\u001b[0m \u001b[43m    \u001b[49m\u001b[43mtensors\u001b[49m\u001b[43m,\u001b[49m\u001b[43m \u001b[49m\u001b[43mgrad_tensors_\u001b[49m\u001b[43m,\u001b[49m\u001b[43m \u001b[49m\u001b[43mretain_graph\u001b[49m\u001b[43m,\u001b[49m\u001b[43m \u001b[49m\u001b[43mcreate_graph\u001b[49m\u001b[43m,\u001b[49m\u001b[43m \u001b[49m\u001b[43minputs\u001b[49m\u001b[43m,\u001b[49m\n\u001b[1;32m    199\u001b[0m \u001b[43m    \u001b[49m\u001b[43mallow_unreachable\u001b[49m\u001b[38;5;241;43m=\u001b[39;49m\u001b[38;5;28;43;01mTrue\u001b[39;49;00m\u001b[43m,\u001b[49m\u001b[43m \u001b[49m\u001b[43maccumulate_grad\u001b[49m\u001b[38;5;241;43m=\u001b[39;49m\u001b[38;5;28;43;01mTrue\u001b[39;49;00m\u001b[43m)\u001b[49m\n",
      "\u001b[0;31mRuntimeError\u001b[0m: cuDNN error: CUDNN_STATUS_INTERNAL_ERROR"
     ]
    }
   ],
   "source": [
    "epochs = 1000\n",
    "for epoch in range(epochs):\n",
    "    for i, (inputs, labels) in enumerate(dataloader):\n",
    "        #print(inputs)\n",
    "        inputs = inputs.to(device)\n",
    "        labels = labels.to(device)\n",
    "        outputs = model(inputs)\n",
    "        loss = criterion(outputs, labels.float())\n",
    "        \n",
    "        optimizer.zero_grad()\n",
    "        loss.backward()\n",
    "        optimizer.step()\n",
    "        \n",
    "        print(f'loss: {loss.item()}')"
   ]
  },
  {
   "cell_type": "code",
   "execution_count": null,
   "id": "18a8348a",
   "metadata": {},
   "outputs": [],
   "source": []
  }
 ],
 "metadata": {
  "kernelspec": {
   "display_name": "lfg",
   "language": "python",
   "name": "lfg"
  },
  "language_info": {
   "codemirror_mode": {
    "name": "ipython",
    "version": 3
   },
   "file_extension": ".py",
   "mimetype": "text/x-python",
   "name": "python",
   "nbconvert_exporter": "python",
   "pygments_lexer": "ipython3",
   "version": "3.8.16"
  }
 },
 "nbformat": 4,
 "nbformat_minor": 5
}
